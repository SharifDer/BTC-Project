{
 "cells": [
  {
   "cell_type": "code",
   "execution_count": null,
   "metadata": {},
   "outputs": [],
   "source": [
    "import pandas as pd\n",
    "from preprocessing import Preprocessing\n",
    "import numpy as np\n",
    "from sklearn.metrics import accuracy_score\n",
    "from sklearn.metrics import confusion_matrix\n",
    "from sklearn.ensemble import RandomForestClassifier\n",
    "import pandas_ta as ta"
   ]
  },
  {
   "cell_type": "code",
   "execution_count": 2,
   "metadata": {},
   "outputs": [],
   "source": [
    "n_rows_to_test = 12\n",
    "n_periods_to_predict = 12\n",
    "equal_division = True"
   ]
  },
  {
   "cell_type": "code",
   "execution_count": 3,
   "metadata": {},
   "outputs": [],
   "source": [
    "crypto_df = pd.read_csv(\"BTTCUSDT.csv\", parse_dates=['Open Time' , 'Close Time'])"
   ]
  },
  {
   "cell_type": "code",
   "execution_count": 4,
   "metadata": {},
   "outputs": [],
   "source": [
    "mas_values = [10, 20, 30, 50 , 100 , 200]\n",
    "for ma in mas_values:\n",
    "    crypto_df[\"SMA\" + str(ma)] = ta.sma(crypto_df[\"Close\"] , ma)\n",
    "    crypto_df[\"EMA\" + str(ma)] = ta.ema(crypto_df[\"Close\"] , ma)\n",
    "    crypto_df['WMA'+str(ma)] = ta.wma(crypto_df['Close'] , ma)"
   ]
  },
  {
   "cell_type": "code",
   "execution_count": 5,
   "metadata": {},
   "outputs": [],
   "source": [
    "crypto_df['Ao'] = ta.ao(high=crypto_df['High'] , low=crypto_df['Low'])\n",
    "crypto_df['Bop'] = ta.bop(open_=crypto_df['Open'] , high=crypto_df['High'] , low=crypto_df['Low'] , close=crypto_df['Close'])\n",
    "crypto_df['VWMA'] = ta.vwma(crypto_df['Close'] , volume=crypto_df['Volume'])\n",
    "crypto_df['ATR'] = ta.atr(high=crypto_df['High'] , low=crypto_df['Low'] , close=crypto_df['Close'])\n",
    "crypto_df['ATR_4'] = ta.atr(high=crypto_df['High'] , low=crypto_df['Low'] , close=crypto_df['Close'] , length=4)  \n",
    "crypto_df['Momentum'] = ta.mom(close=crypto_df['Close'], length=14)\n",
    "crypto_df['CCI'] = ta.cci(high=crypto_df['High'], low=crypto_df['Low'], close=crypto_df['Close'])"
   ]
  },
  {
   "cell_type": "code",
   "execution_count": 6,
   "metadata": {},
   "outputs": [],
   "source": [
    "crypto_df['24hReturn'] = ((crypto_df['Close'].shift(-n_periods_to_predict) - crypto_df['Close'] ) / crypto_df['Close']) * 100"
   ]
  },
  {
   "cell_type": "code",
   "execution_count": 7,
   "metadata": {},
   "outputs": [
    {
     "data": {
      "text/html": [
       "<div>\n",
       "<style scoped>\n",
       "    .dataframe tbody tr th:only-of-type {\n",
       "        vertical-align: middle;\n",
       "    }\n",
       "\n",
       "    .dataframe tbody tr th {\n",
       "        vertical-align: top;\n",
       "    }\n",
       "\n",
       "    .dataframe thead th {\n",
       "        text-align: right;\n",
       "    }\n",
       "</style>\n",
       "<table border=\"1\" class=\"dataframe\">\n",
       "  <thead>\n",
       "    <tr style=\"text-align: right;\">\n",
       "      <th></th>\n",
       "      <th>Symbol</th>\n",
       "      <th>Open Time</th>\n",
       "      <th>Close Time</th>\n",
       "      <th>Open</th>\n",
       "      <th>Close</th>\n",
       "      <th>Low</th>\n",
       "      <th>High</th>\n",
       "      <th>Volume</th>\n",
       "      <th>SMA10</th>\n",
       "      <th>EMA10</th>\n",
       "      <th>...</th>\n",
       "      <th>WMA200</th>\n",
       "      <th>Ao</th>\n",
       "      <th>Bop</th>\n",
       "      <th>VWMA</th>\n",
       "      <th>ATR</th>\n",
       "      <th>ATR_4</th>\n",
       "      <th>Momentum</th>\n",
       "      <th>CCI</th>\n",
       "      <th>p1_Target</th>\n",
       "      <th>Target</th>\n",
       "    </tr>\n",
       "  </thead>\n",
       "  <tbody>\n",
       "    <tr>\n",
       "      <th>0</th>\n",
       "      <td>BTTCUSDT</td>\n",
       "      <td>2022-01-25 04:00:00</td>\n",
       "      <td>2022-01-25 07:59:00</td>\n",
       "      <td>0.000002</td>\n",
       "      <td>0.000002</td>\n",
       "      <td>0.000002</td>\n",
       "      <td>0.000003</td>\n",
       "      <td>5.202012e+12</td>\n",
       "      <td>NaN</td>\n",
       "      <td>NaN</td>\n",
       "      <td>...</td>\n",
       "      <td>NaN</td>\n",
       "      <td>NaN</td>\n",
       "      <td>0.009524</td>\n",
       "      <td>NaN</td>\n",
       "      <td>NaN</td>\n",
       "      <td>NaN</td>\n",
       "      <td>NaN</td>\n",
       "      <td>NaN</td>\n",
       "      <td>NaN</td>\n",
       "      <td>1.53</td>\n",
       "    </tr>\n",
       "    <tr>\n",
       "      <th>1</th>\n",
       "      <td>BTTCUSDT</td>\n",
       "      <td>2022-01-25 08:00:00</td>\n",
       "      <td>2022-01-25 11:59:00</td>\n",
       "      <td>0.000002</td>\n",
       "      <td>0.000002</td>\n",
       "      <td>0.000002</td>\n",
       "      <td>0.000002</td>\n",
       "      <td>2.396618e+12</td>\n",
       "      <td>NaN</td>\n",
       "      <td>NaN</td>\n",
       "      <td>...</td>\n",
       "      <td>NaN</td>\n",
       "      <td>NaN</td>\n",
       "      <td>0.291667</td>\n",
       "      <td>NaN</td>\n",
       "      <td>NaN</td>\n",
       "      <td>NaN</td>\n",
       "      <td>NaN</td>\n",
       "      <td>NaN</td>\n",
       "      <td>1.53</td>\n",
       "      <td>11.33</td>\n",
       "    </tr>\n",
       "  </tbody>\n",
       "</table>\n",
       "<p>2 rows × 35 columns</p>\n",
       "</div>"
      ],
      "text/plain": [
       "     Symbol           Open Time          Close Time      Open     Close  \\\n",
       "0  BTTCUSDT 2022-01-25 04:00:00 2022-01-25 07:59:00  0.000002  0.000002   \n",
       "1  BTTCUSDT 2022-01-25 08:00:00 2022-01-25 11:59:00  0.000002  0.000002   \n",
       "\n",
       "        Low      High        Volume  SMA10  EMA10  ...  WMA200  Ao       Bop  \\\n",
       "0  0.000002  0.000003  5.202012e+12    NaN    NaN  ...     NaN NaN  0.009524   \n",
       "1  0.000002  0.000002  2.396618e+12    NaN    NaN  ...     NaN NaN  0.291667   \n",
       "\n",
       "   VWMA  ATR  ATR_4  Momentum  CCI  p1_Target  Target  \n",
       "0   NaN  NaN    NaN       NaN  NaN        NaN    1.53  \n",
       "1   NaN  NaN    NaN       NaN  NaN       1.53   11.33  \n",
       "\n",
       "[2 rows x 35 columns]"
      ]
     },
     "execution_count": 7,
     "metadata": {},
     "output_type": "execute_result"
    }
   ],
   "source": [
    "n_to_shift_Target = 1\n",
    "crypto_df['24hReturn'] = crypto_df['24hReturn'].round(decimals=2)\n",
    "crypto_df['p1_Target'] = crypto_df['24hReturn'].shift(n_to_shift_Target)\n",
    "crypto_df['Target'] = crypto_df['24hReturn']\n",
    "crypto_df = crypto_df.drop(columns='24hReturn').copy()\n",
    "crypto_df_testing = crypto_df.iloc[-n_rows_to_test :].copy().reset_index(drop=True)\n",
    "crypto_df_processed = crypto_df.iloc[ : -n_rows_to_test].copy().reset_index(drop=True)\n",
    "crypto_df_processed.head(2)"
   ]
  },
  {
   "cell_type": "code",
   "execution_count": 8,
   "metadata": {},
   "outputs": [],
   "source": [
    "pre = Preprocessing()\n",
    "df_processed  = pre.pre_processing(crypto_df_processed)"
   ]
  },
  {
   "cell_type": "code",
   "execution_count": 9,
   "metadata": {},
   "outputs": [
    {
     "data": {
      "text/html": [
       "<div>\n",
       "<style scoped>\n",
       "    .dataframe tbody tr th:only-of-type {\n",
       "        vertical-align: middle;\n",
       "    }\n",
       "\n",
       "    .dataframe tbody tr th {\n",
       "        vertical-align: top;\n",
       "    }\n",
       "\n",
       "    .dataframe thead th {\n",
       "        text-align: right;\n",
       "    }\n",
       "</style>\n",
       "<table border=\"1\" class=\"dataframe\">\n",
       "  <thead>\n",
       "    <tr style=\"text-align: right;\">\n",
       "      <th></th>\n",
       "      <th>Close</th>\n",
       "      <th>Target</th>\n",
       "    </tr>\n",
       "  </thead>\n",
       "  <tbody>\n",
       "    <tr>\n",
       "      <th>5958</th>\n",
       "      <td>0.000001</td>\n",
       "      <td>-3.51</td>\n",
       "    </tr>\n",
       "    <tr>\n",
       "      <th>5959</th>\n",
       "      <td>0.000001</td>\n",
       "      <td>0.89</td>\n",
       "    </tr>\n",
       "    <tr>\n",
       "      <th>5960</th>\n",
       "      <td>0.000001</td>\n",
       "      <td>-1.74</td>\n",
       "    </tr>\n",
       "  </tbody>\n",
       "</table>\n",
       "</div>"
      ],
      "text/plain": [
       "         Close  Target\n",
       "5958  0.000001   -3.51\n",
       "5959  0.000001    0.89\n",
       "5960  0.000001   -1.74"
      ]
     },
     "execution_count": 9,
     "metadata": {},
     "output_type": "execute_result"
    }
   ],
   "source": [
    "df_processed[['Close' , 'Target']].tail(3)"
   ]
  },
  {
   "cell_type": "code",
   "execution_count": 10,
   "metadata": {},
   "outputs": [],
   "source": [
    "def classifiying_Targets(df, equal_divide):\n",
    "    num_of_classes = 2\n",
    "    threshhold = 0\n",
    "    bin_edges = 0\n",
    "    if equal_divide == True:\n",
    "       bins = pd.qcut(df['Target'], q=num_of_classes, duplicates='drop') \n",
    "       bin_edges = bins.cat.categories \n",
    "       bin_edges_list = [interval.left for interval in bin_edges] + [bin_edges.right[-1]]  # Include the rightmost edge\n",
    "       bin_edges_list = sorted(set(bin_edges_list))\n",
    "       df['p1_Target'] = pd.qcut(df['p1_Target'] , q=num_of_classes , labels=[0 , 1 ])\n",
    "       df['Target'] = pd.qcut(df['Target'] , q=num_of_classes , labels=[0 , 1 ])\n",
    "       threshhold = bin_edges_list[1]\n",
    "    else :\n",
    "        df['p1_Target'] = df['p1_Target'].apply(lambda x : 0 if x <= 0 else 1)\n",
    "        df['Target'] = df['Target'].apply(lambda x : 0 if x <= 0 else 1)\n",
    "    return df , threshhold , bin_edges\n",
    "\n",
    "def apply_division(df , mid_value ):\n",
    "    df['p1_Target'] = df['p1_Target'].apply(lambda x : 0 if pd.notna(x) and x <= mid_value else (1 if pd.notna(x) else x))\n",
    "    df['Target'] = df['Target'].apply(lambda x : 0 if pd.notna(x) and x <= mid_value else(1 if pd.notna(x) else x))\n",
    "    return df\n"
   ]
  },
  {
   "cell_type": "code",
   "execution_count": 11,
   "metadata": {},
   "outputs": [],
   "source": [
    "df_processed , mid_value , bin_edges = classifiying_Targets(df_processed ,equal_divide=equal_division )"
   ]
  },
  {
   "cell_type": "code",
   "execution_count": 12,
   "metadata": {},
   "outputs": [
    {
     "data": {
      "text/plain": [
       "Target\n",
       "0    3752\n",
       "1    2209\n",
       "Name: count, dtype: int64"
      ]
     },
     "execution_count": 12,
     "metadata": {},
     "output_type": "execute_result"
    }
   ],
   "source": [
    "df_processed['Target'].value_counts()"
   ]
  },
  {
   "cell_type": "code",
   "execution_count": 13,
   "metadata": {},
   "outputs": [
    {
     "data": {
      "text/html": [
       "<div>\n",
       "<style scoped>\n",
       "    .dataframe tbody tr th:only-of-type {\n",
       "        vertical-align: middle;\n",
       "    }\n",
       "\n",
       "    .dataframe tbody tr th {\n",
       "        vertical-align: top;\n",
       "    }\n",
       "\n",
       "    .dataframe thead th {\n",
       "        text-align: right;\n",
       "    }\n",
       "</style>\n",
       "<table border=\"1\" class=\"dataframe\">\n",
       "  <thead>\n",
       "    <tr style=\"text-align: right;\">\n",
       "      <th></th>\n",
       "      <th>Target</th>\n",
       "      <th>p1_Target</th>\n",
       "    </tr>\n",
       "  </thead>\n",
       "  <tbody>\n",
       "    <tr>\n",
       "      <th>0</th>\n",
       "      <td>1</td>\n",
       "      <td>1</td>\n",
       "    </tr>\n",
       "    <tr>\n",
       "      <th>1</th>\n",
       "      <td>1</td>\n",
       "      <td>1</td>\n",
       "    </tr>\n",
       "    <tr>\n",
       "      <th>2</th>\n",
       "      <td>1</td>\n",
       "      <td>1</td>\n",
       "    </tr>\n",
       "    <tr>\n",
       "      <th>3</th>\n",
       "      <td>1</td>\n",
       "      <td>1</td>\n",
       "    </tr>\n",
       "    <tr>\n",
       "      <th>4</th>\n",
       "      <td>1</td>\n",
       "      <td>1</td>\n",
       "    </tr>\n",
       "    <tr>\n",
       "      <th>...</th>\n",
       "      <td>...</td>\n",
       "      <td>...</td>\n",
       "    </tr>\n",
       "    <tr>\n",
       "      <th>5956</th>\n",
       "      <td>1</td>\n",
       "      <td>0</td>\n",
       "    </tr>\n",
       "    <tr>\n",
       "      <th>5957</th>\n",
       "      <td>1</td>\n",
       "      <td>1</td>\n",
       "    </tr>\n",
       "    <tr>\n",
       "      <th>5958</th>\n",
       "      <td>0</td>\n",
       "      <td>1</td>\n",
       "    </tr>\n",
       "    <tr>\n",
       "      <th>5959</th>\n",
       "      <td>1</td>\n",
       "      <td>0</td>\n",
       "    </tr>\n",
       "    <tr>\n",
       "      <th>5960</th>\n",
       "      <td>0</td>\n",
       "      <td>1</td>\n",
       "    </tr>\n",
       "  </tbody>\n",
       "</table>\n",
       "<p>5961 rows × 2 columns</p>\n",
       "</div>"
      ],
      "text/plain": [
       "     Target p1_Target\n",
       "0         1         1\n",
       "1         1         1\n",
       "2         1         1\n",
       "3         1         1\n",
       "4         1         1\n",
       "...     ...       ...\n",
       "5956      1         0\n",
       "5957      1         1\n",
       "5958      0         1\n",
       "5959      1         0\n",
       "5960      0         1\n",
       "\n",
       "[5961 rows x 2 columns]"
      ]
     },
     "execution_count": 13,
     "metadata": {},
     "output_type": "execute_result"
    }
   ],
   "source": [
    "df_processed[['Target' , 'p1_Target']]"
   ]
  },
  {
   "cell_type": "code",
   "execution_count": 14,
   "metadata": {},
   "outputs": [],
   "source": [
    "X_scaled = df_processed.iloc[ : , 3 : -1] \n",
    "y = df_processed['Target']"
   ]
  },
  {
   "cell_type": "code",
   "execution_count": 15,
   "metadata": {},
   "outputs": [],
   "source": [
    "def time_series_train_split(X_scaled , y):\n",
    "    train_size = int(df_processed.shape[0] * 0.95)\n",
    "    X_train, X_test = X_scaled[:train_size], X_scaled[train_size:]\n",
    "    y_train, y_test = y.iloc[:train_size], y.iloc[train_size:]\n",
    "    return X_train , X_test, y_train , y_test"
   ]
  },
  {
   "cell_type": "code",
   "execution_count": 16,
   "metadata": {},
   "outputs": [],
   "source": [
    "X_train,X_test,y_train,y_test = time_series_train_split(X_scaled , y )"
   ]
  },
  {
   "cell_type": "code",
   "execution_count": 17,
   "metadata": {},
   "outputs": [],
   "source": [
    "def models_search(X_train , y_train):\n",
    "    criterions = ['entropy' , 'gini' ]\n",
    "    models = []\n",
    "    for criterion in criterions:\n",
    "                model = RandomForestClassifier(criterion=criterion , n_estimators=100 , random_state=21 , bootstrap=False , max_features=20 , max_depth=20 , n_jobs=-1)\n",
    "                model.fit(X_train , y_train)\n",
    "                models.append(model)\n",
    "    return models\n",
    "def best_accuarcy_model(X_train  , X_test , y_train , y_test):\n",
    "    models = models_search(X_train , y_train)\n",
    "    best_score = 0\n",
    "    for model in models :\n",
    "        y_pred = model.predict(X_test)\n",
    "        acc = accuracy_score(y_test , y_pred)\n",
    "        if acc > best_score:\n",
    "            best_score = acc\n",
    "            best_model = model\n",
    "    return best_model "
   ]
  },
  {
   "cell_type": "code",
   "execution_count": 18,
   "metadata": {},
   "outputs": [
    {
     "name": "stdout",
     "output_type": "stream",
     "text": [
      "[[0.87 0.13]\n",
      " [0.2  0.8 ]]\n",
      "0.8394648829431438\n",
      "RandomForestClassifier(bootstrap=False, criterion='entropy', max_depth=20,\n",
      "                       max_features=20, n_jobs=-1, random_state=21)\n"
     ]
    }
   ],
   "source": [
    "model = best_accuarcy_model(X_train , X_test , y_train , y_test)\n",
    "y_pred = model.predict(X_test)\n",
    "acc = accuracy_score(y_test , y_pred)\n",
    "cm= np.round(confusion_matrix(y_test , y_pred , labels=[0 , 1 ] , normalize='true') , decimals=2)\n",
    "print(cm)\n",
    "print(acc)\n",
    "print(model)"
   ]
  },
  {
   "cell_type": "code",
   "execution_count": 19,
   "metadata": {},
   "outputs": [
    {
     "name": "stdout",
     "output_type": "stream",
     "text": [
      "The maximum depth reached by any tree in the Random Forest is: 20\n"
     ]
    }
   ],
   "source": [
    "max_depths = [estimator.tree_.max_depth for estimator in model.estimators_]\n",
    "max_depth_reached = max(max_depths)\n",
    "\n",
    "print(f\"The maximum depth reached by any tree in the Random Forest is: {max_depth_reached}\")"
   ]
  },
  {
   "cell_type": "code",
   "execution_count": 20,
   "metadata": {},
   "outputs": [
    {
     "data": {
      "text/plain": [
       "20"
      ]
     },
     "execution_count": 20,
     "metadata": {},
     "output_type": "execute_result"
    }
   ],
   "source": [
    "min(max_depths)"
   ]
  },
  {
   "cell_type": "code",
   "execution_count": 21,
   "metadata": {},
   "outputs": [
    {
     "data": {
      "text/plain": [
       "(299,)"
      ]
     },
     "execution_count": 21,
     "metadata": {},
     "output_type": "execute_result"
    }
   ],
   "source": [
    "y_test.shape"
   ]
  },
  {
   "cell_type": "code",
   "execution_count": 22,
   "metadata": {},
   "outputs": [],
   "source": [
    "if n_rows_to_test != n_periods_to_predict:\n",
    "  crypto_df_testing = crypto_df_testing.iloc[ : n_rows_to_test - n_periods_to_predict].copy()"
   ]
  },
  {
   "cell_type": "code",
   "execution_count": 23,
   "metadata": {},
   "outputs": [],
   "source": [
    "crypto_df_testing = apply_division(crypto_df_testing , mid_value=mid_value )"
   ]
  },
  {
   "cell_type": "code",
   "execution_count": 24,
   "metadata": {},
   "outputs": [],
   "source": [
    "actual_values = crypto_df_testing.iloc[:, -1].copy() \n",
    "X_testing_values = crypto_df_testing.iloc[:, 3:-1].copy()"
   ]
  },
  {
   "cell_type": "code",
   "execution_count": 25,
   "metadata": {},
   "outputs": [],
   "source": [
    "li = []\n",
    "probs = []\n",
    "\n",
    "for i in range(X_testing_values.shape[0]):\n",
    "    one = model.predict(X_testing_values.iloc[[i], :])\n",
    "    one = one.round(decimals=2)\n",
    "    li.append(one[0]) \n",
    "    # prob = model.predict_proba(X_testing_values.iloc[[i], :])\n",
    "    # probs.append(prob[0]) \n",
    "    if i + n_to_shift_Target < X_testing_values.shape[0]:\n",
    "        X_testing_values.iloc[i + n_to_shift_Target, -1] = one[0]\n",
    "\n",
    "# probs_df = pd.DataFrame(probs, columns=[f\"Prob_Class_{i}\" for i in range(prob.shape[1])])\n",
    "pred_df = pd.DataFrame({\n",
    "    \"Actual\": actual_values,\n",
    "    \"Pred\": li\n",
    "})\n",
    "pred_df['Time'] = crypto_df_testing['Open Time'].dt.strftime('%d-%H')"
   ]
  },
  {
   "cell_type": "code",
   "execution_count": 26,
   "metadata": {},
   "outputs": [
    {
     "name": "stdout",
     "output_type": "stream",
     "text": [
      "     Time  Actual  Pred\n",
      "0   16-20     NaN     0\n",
      "1   17-00     NaN     0\n",
      "2   17-04     NaN     0\n",
      "3   17-08     NaN     1\n",
      "4   17-12     NaN     1\n",
      "5   17-16     NaN     1\n",
      "6   17-20     NaN     1\n",
      "7   18-00     NaN     1\n",
      "8   18-04     NaN     1\n",
      "9   18-08     NaN     1\n",
      "10  18-12     NaN     1\n",
      "11  18-16     NaN     1\n",
      "0.8394648829431438\n",
      "[[0.87 0.13]\n",
      " [0.2  0.8 ]]\n",
      "Tested_values 299\n",
      "RandomForestClassifier(bootstrap=False, criterion='entropy', max_depth=20,\n",
      "                       max_features=20, n_jobs=-1, random_state=21)\n"
     ]
    }
   ],
   "source": [
    "if n_rows_to_test != n_periods_to_predict:\n",
    "  print(accuracy_score(pred_df['Actual'] , pred_df['Pred']))\n",
    "print(pred_df[['Time' ,'Actual' , 'Pred']])\n",
    "print(acc)\n",
    "print(cm)\n",
    "print(\"Tested_values\" , len(y_test))\n",
    "print(model)"
   ]
  },
  {
   "cell_type": "code",
   "execution_count": 27,
   "metadata": {},
   "outputs": [
    {
     "data": {
      "text/plain": [
       "Target\n",
       "0    3752\n",
       "1    2209\n",
       "Name: count, dtype: int64"
      ]
     },
     "execution_count": 27,
     "metadata": {},
     "output_type": "execute_result"
    }
   ],
   "source": [
    "df_processed['Target'].value_counts()"
   ]
  },
  {
   "cell_type": "code",
   "execution_count": null,
   "metadata": {},
   "outputs": [],
   "source": []
  }
 ],
 "metadata": {
  "kernelspec": {
   "display_name": "Python 3",
   "language": "python",
   "name": "python3"
  },
  "language_info": {
   "codemirror_mode": {
    "name": "ipython",
    "version": 3
   },
   "file_extension": ".py",
   "mimetype": "text/x-python",
   "name": "python",
   "nbconvert_exporter": "python",
   "pygments_lexer": "ipython3",
   "version": "3.12.1"
  }
 },
 "nbformat": 4,
 "nbformat_minor": 2
}
